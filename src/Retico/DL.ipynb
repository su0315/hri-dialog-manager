{
 "cells": [
  {
   "cell_type": "code",
   "execution_count": 38,
   "metadata": {},
   "outputs": [],
   "source": [
    "import random\n",
    "import numpy as np\n",
    "import pandas as pd\n",
    "\n",
    "import torch\n",
    "import torch.nn as nn\n",
    "import torch.nn.functional as F\n",
    "import torch.optim as optim\n",
    "import sklearn\n",
    "from sklearn.model_selection import train_test_split"
   ]
  },
  {
   "cell_type": "markdown",
   "metadata": {},
   "source": [
    "# Data (not the newest data)"
   ]
  },
  {
   "cell_type": "code",
   "execution_count": 39,
   "metadata": {},
   "outputs": [
    {
     "name": "stdout",
     "output_type": "stream",
     "text": [
      "1000 1000\n"
     ]
    }
   ],
   "source": [
    "no_pieces = 9\n",
    "X_list = [] # confidence_list\n",
    "y_list =[]\n",
    "\n",
    "for instance in range(1000):\n",
    "    p_gold  = [0.0 for i in range(no_pieces-1)] + [1.0]\n",
    "    random.shuffle(p_gold)\n",
    "\n",
    "    noise_std = 0.1  \n",
    "    p_noise = [np.abs(np.random.normal(scale = noise_std, loc = i)) for i in p_gold]\n",
    "    smax = [i/np.sum(p_noise) for i in p_noise]\n",
    "\n",
    "    X_list.append(smax)\n",
    "    y_list.append(np.argmax(smax))\n",
    " \n",
    "# Dataset \n",
    "X = torch.Tensor(X_list)\n",
    "y = torch.LongTensor(y_list)\n",
    "print (len(X), len(y))\n",
    "\n",
    "#print (X, y)\n",
    "X.shape\n",
    "\n",
    "# Data split\n",
    "X_train, X_test, y_train, y_test = train_test_split(X, y, test_size=0.33, random_state=42)"
   ]
  },
  {
   "cell_type": "markdown",
   "metadata": {},
   "source": [
    "# Hyperparameter"
   ]
  },
  {
   "cell_type": "code",
   "execution_count": 92,
   "metadata": {},
   "outputs": [],
   "source": [
    "input_size = X.shape[1]\n",
    "hidden_size = 7\n",
    "output_size = 9\n",
    "lr = 0.01\n",
    "n_epochs = 30\n",
    "report_every = 1"
   ]
  },
  {
   "cell_type": "markdown",
   "metadata": {},
   "source": [
    "# Model"
   ]
  },
  {
   "cell_type": "code",
   "execution_count": 93,
   "metadata": {},
   "outputs": [],
   "source": [
    "class Net(nn.Module):\n",
    "\n",
    "    def __init__(self, input_size, hidden_size, output_size):\n",
    "        super(Net, self).__init__()\n",
    "        \n",
    "        self.hidden = nn.Linear(input_size, hidden_size)\n",
    "        self.output = nn.Linear(hidden_size, output_size)\n",
    "\n",
    "    def forward(self, x):\n",
    "        x = F.relu(self.hidden(x))\n",
    "        x = F.relu(self.output(x))\n",
    "        #x = torch.argmax(x, dim=1)\n",
    "\n",
    "        return x"
   ]
  },
  {
   "cell_type": "code",
   "execution_count": 94,
   "metadata": {},
   "outputs": [],
   "source": [
    "net = Net(input_size, hidden_size, output_size)"
   ]
  },
  {
   "cell_type": "markdown",
   "metadata": {},
   "source": [
    "# Training"
   ]
  },
  {
   "cell_type": "code",
   "execution_count": 95,
   "metadata": {},
   "outputs": [
    {
     "name": "stdout",
     "output_type": "stream",
     "text": [
      "epoch: 0, loss: 2.1385\n",
      "epoch: 1, loss: 2.0366\n",
      "epoch: 2, loss: 1.8816\n",
      "epoch: 3, loss: 1.6620\n",
      "epoch: 4, loss: 1.4100\n",
      "epoch: 5, loss: 1.1800\n",
      "epoch: 6, loss: 1.0010\n",
      "epoch: 7, loss: 0.8696\n",
      "epoch: 8, loss: 0.7725\n",
      "epoch: 9, loss: 0.7001\n",
      "epoch: 10, loss: 0.6462\n",
      "epoch: 11, loss: 0.6068\n",
      "epoch: 12, loss: 0.5777\n",
      "epoch: 13, loss: 0.5559\n",
      "epoch: 14, loss: 0.5392\n",
      "epoch: 15, loss: 0.5260\n",
      "epoch: 16, loss: 0.5155\n",
      "epoch: 17, loss: 0.5070\n",
      "epoch: 18, loss: 0.4999\n",
      "epoch: 19, loss: 0.4940\n",
      "epoch: 20, loss: 0.4890\n",
      "epoch: 21, loss: 0.4847\n",
      "epoch: 22, loss: 0.4811\n",
      "epoch: 23, loss: 0.4779\n",
      "epoch: 24, loss: 0.4751\n",
      "epoch: 25, loss: 0.4726\n",
      "epoch: 26, loss: 0.4704\n",
      "epoch: 27, loss: 0.4684\n",
      "epoch: 28, loss: 0.4666\n",
      "epoch: 29, loss: 0.4649\n"
     ]
    }
   ],
   "source": [
    "# Update the weights\n",
    "# create optimizer\n",
    "optimizer = optim.SGD(net.parameters(), lr=lr)\n",
    "\n",
    "for epoch in range(n_epochs):\n",
    "    total_loss = 0\n",
    "    \n",
    "    ### in training loop ###\n",
    "    for instance in X_train:\n",
    "        optimizer.zero_grad()\n",
    "        # Loss Function\n",
    "        pred = net(X_train)\n",
    "        target = y_train\n",
    "        criterion = nn.CrossEntropyLoss()\n",
    "        loss = criterion(pred, target)\n",
    "        total_loss += loss\n",
    "        loss.backward()\n",
    "        optimizer.step()\n",
    "        \n",
    "    if ((epoch+1) % report_every) == 0:\n",
    "        print('epoch: %d, loss: %.4f' % (epoch, total_loss/len(X_train)))\n",
    "        \n"
   ]
  },
  {
   "cell_type": "markdown",
   "metadata": {},
   "source": [
    "# Testing"
   ]
  },
  {
   "cell_type": "code",
   "execution_count": 96,
   "metadata": {},
   "outputs": [
    {
     "name": "stdout",
     "output_type": "stream",
     "text": [
      "tensor([3, 2, 1, 2, 6, 0, 0, 4, 4, 7, 6, 6, 0, 2, 7, 8, 6, 0, 6, 2, 8, 0, 3, 3,\n",
      "        4, 0, 4, 6, 2, 2, 4, 3, 0, 3, 2, 4, 0, 2, 2, 2, 1, 4, 3, 3, 3, 7, 0, 0,\n",
      "        0, 4, 7, 0, 1, 1, 2, 2, 7, 0, 8, 7, 2, 2, 7, 8, 4, 8, 2, 0, 3, 2, 2, 1,\n",
      "        4, 7, 8, 6, 3, 1, 1, 2, 8, 8, 8, 0, 4, 8, 6, 4, 1, 3, 3, 0, 6, 3, 4, 1,\n",
      "        2, 3, 6, 3, 6, 4, 3, 1, 8, 4, 6, 0, 4, 4, 3, 0, 8, 3, 8, 6, 6, 2, 0, 4,\n",
      "        8, 8, 0, 1, 2, 8, 3, 0, 4, 3, 3, 6, 6, 7, 8, 2, 8, 0, 8, 3, 2, 2, 1, 7,\n",
      "        0, 0, 0, 7, 1, 1, 7, 8, 6, 4, 2, 3, 3, 1, 4, 6, 0, 8, 2, 0, 4, 0, 2, 6,\n",
      "        8, 8, 8, 0, 3, 8, 1, 1, 7, 2, 4, 0, 1, 1, 2, 3, 2, 0, 0, 3, 7, 4, 3, 1,\n",
      "        3, 6, 3, 3, 1, 3, 3, 3, 4, 4, 7, 8, 2, 0, 2, 7, 3, 3, 6, 3, 2, 1, 1, 0,\n",
      "        3, 1, 6, 7, 3, 3, 3, 6, 2, 0, 8, 2, 8, 1, 6, 0, 8, 8, 7, 6, 1, 0, 8, 6,\n",
      "        7, 1, 6, 3, 8, 2, 0, 8, 4, 0, 2, 3, 4, 1, 4, 0, 7, 1, 7, 1, 0, 0, 4, 8,\n",
      "        0, 6, 2, 8, 1, 6, 7, 4, 0, 6, 6, 4, 0, 0, 0, 0, 4, 6, 6, 6, 2, 7, 3, 1,\n",
      "        8, 6, 8, 8, 2, 1, 1, 0, 3, 8, 0, 1, 4, 0, 4, 0, 3, 7, 6, 0, 1, 6, 4, 2,\n",
      "        7, 8, 8, 7, 1, 3, 2, 3, 7, 7, 8, 7, 0, 3, 3, 2, 8, 8])\n",
      "tensor([5, 2, 5, 2, 6, 0, 0, 4, 4, 5, 6, 6, 0, 2, 7, 0, 6, 0, 6, 2, 8, 0, 5, 5,\n",
      "        4, 0, 4, 6, 2, 2, 4, 3, 5, 3, 2, 4, 5, 2, 2, 2, 1, 4, 3, 3, 3, 7, 5, 5,\n",
      "        0, 0, 7, 5, 1, 1, 2, 2, 7, 5, 8, 7, 2, 0, 7, 8, 4, 8, 2, 5, 3, 2, 2, 1,\n",
      "        4, 7, 0, 6, 3, 1, 1, 2, 5, 8, 0, 0, 4, 8, 6, 4, 1, 0, 5, 5, 6, 3, 0, 1,\n",
      "        2, 3, 6, 3, 6, 4, 3, 1, 8, 4, 6, 5, 5, 4, 3, 0, 0, 3, 8, 6, 6, 2, 0, 4,\n",
      "        0, 8, 0, 1, 0, 8, 3, 0, 4, 0, 3, 6, 6, 7, 8, 2, 8, 5, 8, 3, 2, 2, 1, 7,\n",
      "        0, 5, 5, 7, 1, 1, 7, 0, 0, 5, 2, 3, 3, 1, 4, 6, 5, 8, 2, 0, 4, 5, 2, 6,\n",
      "        8, 8, 8, 0, 3, 0, 5, 1, 7, 2, 4, 5, 1, 1, 2, 3, 2, 0, 0, 5, 7, 4, 3, 1,\n",
      "        3, 6, 3, 3, 1, 3, 3, 3, 4, 4, 7, 8, 5, 5, 2, 7, 3, 3, 6, 3, 2, 1, 1, 0,\n",
      "        3, 1, 6, 7, 3, 3, 3, 5, 2, 5, 8, 2, 0, 1, 6, 0, 8, 8, 7, 5, 1, 0, 8, 6,\n",
      "        7, 1, 6, 3, 8, 5, 0, 8, 4, 0, 2, 3, 4, 1, 4, 5, 7, 1, 7, 1, 0, 0, 4, 8,\n",
      "        0, 6, 2, 8, 1, 6, 7, 4, 5, 6, 6, 4, 5, 5, 5, 5, 4, 5, 6, 5, 2, 7, 3, 1,\n",
      "        8, 6, 8, 5, 2, 1, 1, 5, 3, 8, 5, 1, 4, 0, 4, 0, 3, 7, 6, 0, 1, 6, 4, 2,\n",
      "        7, 0, 8, 7, 1, 3, 2, 3, 7, 7, 8, 7, 0, 3, 3, 2, 8, 8])\n",
      "test accuracy: 82.12\n"
     ]
    }
   ],
   "source": [
    "correct = 0\n",
    "\n",
    "with torch.no_grad():\n",
    "    for instance in y_test:\n",
    "        target = y_test\n",
    "        pred = net(X_test)\n",
    "        pred_label = torch.argmax(pred, dim=1)\n",
    "        \n",
    "    print (pred_label)\n",
    "    print (target)\n",
    "        \n",
    "    correct += torch.sum(pred_label==target).item()    \n",
    "    print('test accuracy: %.2f' % (100.0 * correct / len(y_test)))"
   ]
  }
 ],
 "metadata": {
  "kernelspec": {
   "display_name": "Python 3 (ipykernel)",
   "language": "python",
   "name": "python3"
  },
  "language_info": {
   "codemirror_mode": {
    "name": "ipython",
    "version": 3
   },
   "file_extension": ".py",
   "mimetype": "text/x-python",
   "name": "python",
   "nbconvert_exporter": "python",
   "pygments_lexer": "ipython3",
   "version": "3.8.12"
  },
  "vscode": {
   "interpreter": {
    "hash": "72ed6c992ba7fdd0ca8e67b9e6bb1892b67ffbcbb0d6c7cc95f752a3faeb832f"
   }
  }
 },
 "nbformat": 4,
 "nbformat_minor": 2
}
