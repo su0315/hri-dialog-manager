{
 "cells": [
  {
   "cell_type": "markdown",
   "metadata": {
    "pycharm": {
     "name": "#%% md\n"
    },
    "id": "LPu27cnSUsqs"
   },
   "source": [
    "# 1. Import Dependencies"
   ]
  },
  {
   "cell_type": "code",
   "execution_count": null,
   "metadata": {
    "pycharm": {
     "name": "#%%\n"
    },
    "id": "w-DEFdZqUsqz"
   },
   "outputs": [],
   "source": [
    "#!pip install -q stable-baselines3[extra]"
   ]
  },
  {
   "cell_type": "code",
   "execution_count": null,
   "metadata": {
    "pycharm": {
     "name": "#%%\n"
    },
    "id": "CN_jM2swUsq1"
   },
   "outputs": [],
   "source": [
    "import pickle\n",
    "import numpy as np\n",
    "from gym import Env\n",
    "from gym.spaces import Discrete, Box, Dict, Tuple, MultiBinary, MultiDiscrete\n",
    "from stable_baselines3 import PPO\n",
    "import pandas as pd\n",
    "from sklearn.model_selection import train_test_split\n",
    "from tqdm import tqdm"
   ]
  },
  {
   "cell_type": "markdown",
   "metadata": {
    "pycharm": {
     "name": "#%% md\n"
    },
    "id": "aQSLyMt-Usq2"
   },
   "source": [
    "# 3. Building an Environment"
   ]
  },
  {
   "cell_type": "code",
   "execution_count": null,
   "outputs": [],
   "source": [
    "with open('data/X_DM.pickle', 'rb') as X_file:\n",
    "    model1_X = pickle.load(X_file)\n",
    "with open('data/y_DM.pickle', 'rb') as y_file:\n",
    "    model1_y = pickle.load(y_file)\n",
    "\n",
    "half = int(len(model1_X)/2)\n",
    "train1_X, test1_X, train1_y, test1_y = train_test_split(model1_X[:half], model1_y[:half], test_size=1/3, random_state=42)"
   ],
   "metadata": {
    "pycharm": {
     "name": "#%%\n"
    },
    "id": "KUbyLuuiUsq2"
   }
  },
  {
   "cell_type": "code",
   "execution_count": null,
   "metadata": {
    "pycharm": {
     "name": "#%%\n"
    },
    "id": "03g2EFTiUsq3"
   },
   "outputs": [],
   "source": [
    "class ActionEnv(Env):\n",
    "    def __init__(self):\n",
    "        # number of pentomino pieces\n",
    "        no_pieces = 15 + 1 + 1 #pieces + do nothing + lang team\n",
    "        \n",
    "        # ACTIONS\n",
    "        '''for now: we only decide for one coordinate --> no of actions = number of coordinates)\n",
    "        (for later: we only decide for one coordinate out of all absolute coordinates and moving coordinate, \n",
    "        boolean value expressing uncertainty)'''\n",
    "        self.action_space = Discrete(no_pieces)\n",
    "        \n",
    "        # Temperature array\n",
    "        self.observation_space = Box(low=0, high=1, shape=(train1_X.shape[1],))\n",
    "\n",
    "        # POSSIBLE STATES\n",
    "        '''Set start state (in our case start state is the only state and here we need to get our training data in or\n",
    "        construct a random formula that will randomly generate possible scenarios each time the function is called.\n",
    "        for now: create random probabilities for 9 coordinates that add up to one\n",
    "        uplevel: do the same and make sure that all follow the true distribution which is p=1 for the gold_coordinate and p=0 for all others\n",
    "        uplevel: do the same + add possiblity for moving vector'''\n",
    "        self.state  = train1_X[i]\n",
    "        self.p_gold = train1_y[i]\n",
    " \n",
    "        \n",
    "    def step(self, action):\n",
    "        '''Our actions do not affect our state, because we only have one state, the start state. Also we don't need \n",
    "        the shower_length which represents the lenght of the sequence, but at the end we use it in the evalulation-\n",
    "        function soo .. dunno.\n",
    "        '''\n",
    "    \n",
    "\n",
    "        if action == self.p_gold:\n",
    "            reward = 1\n",
    "        else:\n",
    "            reward = -1\n",
    "        \n",
    "        # Check if sequence is done\n",
    "        '''we have a sequence of one state: the output that the other groups give us. based on that \n",
    "        we make a decision and a new round starts. so we don't need to count down the seconds of a 60min long\n",
    "        shower to know when a round is over.'''\n",
    "        done = True\n",
    "        \n",
    "        info = {}\n",
    "        \n",
    "        # Return step information\n",
    "        return self.state, reward, done, info\n",
    "\n",
    "    def render(self):\n",
    "        # Implement viz\n",
    "        pass\n",
    "    \n",
    "    def reset(self):\n",
    "        '''Reset start state (output of previous groups) when new round starts (use \"random-formula\" that we need to \n",
    "        create above)'''\n",
    "        global i\n",
    "        self.state = train1_X[i]\n",
    "        self.p_gold = train1_y[i]\n",
    "        i += 1\n",
    "        if i == len(train1_X):\n",
    "            i = 0\n",
    "\n",
    "        return self.state"
   ]
  },
  {
   "cell_type": "markdown",
   "metadata": {
    "pycharm": {
     "name": "#%% md\n"
    },
    "id": "5jraDAbyUsq4"
   },
   "source": [
    "# 5. Train Model"
   ]
  },
  {
   "cell_type": "code",
   "execution_count": null,
   "metadata": {
    "scrolled": true,
    "pycharm": {
     "name": "#%%\n"
    },
    "id": "lXVSsyMoUsq5",
    "outputId": "1c9a540d-e682-4498-8c1e-cc67d427a4b9"
   },
   "outputs": [],
   "source": [
    "i = 0\n",
    "model1 = PPO(\"MlpPolicy\", ActionEnv(), verbose=1)\n",
    "model1.learn(total_timesteps=half)"
   ]
  },
  {
   "cell_type": "markdown",
   "source": [
    "# Evaluation"
   ],
   "metadata": {
    "collapsed": false,
    "pycharm": {
     "name": "#%% md\n"
    },
    "id": "Jo-jeekIUsq7"
   }
  },
  {
   "cell_type": "code",
   "execution_count": null,
   "outputs": [],
   "source": [
    "i = 0\n",
    "#model1 = PPO.load('RL_action_model', ActionEnv())"
   ],
   "metadata": {
    "pycharm": {
     "name": "#%%\n"
    },
    "id": "AV9To5rlUsq8"
   }
  },
  {
   "cell_type": "code",
   "execution_count": null,
   "metadata": {
    "pycharm": {
     "name": "#%%\n"
    },
    "id": "cdV6B2irUsq9",
    "outputId": "ac1e33c7-b93f-4932-f045-7c97250aa117"
   },
   "outputs": [],
   "source": [
    "correct = 0\n",
    "for i in tqdm(range(len(test1_X))):\n",
    "    obs = test1_X[i]\n",
    "    p_gold = test1_y[i]\n",
    "    pred, _ = model1.predict(obs)\n",
    "    if pred==p_gold:\n",
    "        correct += 1\n",
    "accuracy = correct/len(test1_X)\n",
    "print(accuracy)"
   ]
  },
  {
   "cell_type": "code",
   "execution_count": null,
   "outputs": [],
   "source": [
    "# model1.save('RL_action_model')"
   ],
   "metadata": {
    "pycharm": {
     "name": "#%%\n"
    },
    "id": "pJ3hP1IPUsq-"
   }
  },
  {
   "cell_type": "markdown",
   "source": [
    "# Model 2"
   ],
   "metadata": {
    "collapsed": false,
    "pycharm": {
     "name": "#%% md\n"
    },
    "id": "VI7Da0QuUsq_"
   }
  },
  {
   "cell_type": "code",
   "execution_count": null,
   "outputs": [],
   "source": [
    "model2_y = np.ones((half,))\n",
    "for i in range(half, 2*half):\n",
    "    obs = model1_X[i]\n",
    "    p_gold = model1_y[i]\n",
    "    pred, _ = model1.predict(obs)\n",
    "    if pred==p_gold:\n",
    "        model2_y[i-half] = 0"
   ],
   "metadata": {
    "pycharm": {
     "name": "#%%\n"
    },
    "id": "iqqXx41OUsrA"
   }
  },
  {
   "cell_type": "code",
   "execution_count": null,
   "outputs": [],
   "source": [
    "train2_X, test2_X, train2_y, test2_y = train_test_split(model1_X[half:], model2_y, test_size=1/3, random_state=42)"
   ],
   "metadata": {
    "pycharm": {
     "name": "#%%\n"
    },
    "id": "AJ7KcHmnUsrA"
   }
  },
  {
   "cell_type": "code",
   "execution_count": null,
   "outputs": [],
   "source": [
    "class UncertaintyEnv(Env):\n",
    "    def __init__(self):\n",
    "        # ACTIONS\n",
    "        '''for now: we only decide for one coordinate --> no of actions = number of coordinates)\n",
    "        (for later: we only decide for one coordinate out of all absolute coordinates and moving coordinate,\n",
    "        boolean value expressing uncertainty)'''\n",
    "        self.action_space = Discrete(2)\n",
    "\n",
    "        # Temperature array\n",
    "        self.observation_space = Box(low=0, high=1, shape=(train2_X.shape[1],))\n",
    "\n",
    "        # POSSIBLE STATES\n",
    "        '''Set start state (in our case start state is the only state and here we need to get our training data in or\n",
    "        construct a random formula that will randomly generate possible scenarios each time the function is called.\n",
    "        for now: create random probabilities for 9 coordinates that add up to one\n",
    "        uplevel: do the same and make sure that all follow the true distribution which is p=1 for the gold_coordinate and p=0 for all others\n",
    "        uplevel: do the same + add possiblity for moving vector'''\n",
    "        self.state  = train2_X[i]\n",
    "        self.p_gold = train2_y[i]\n",
    "\n",
    "\n",
    "    def step(self, action):\n",
    "        '''Our actions do not affect our state, because we only have one state, the start state. Also we don't need\n",
    "        the shower_length which represents the lenght of the sequence, but at the end we use it in the evalulation-\n",
    "        function soo .. dunno.\n",
    "        '''\n",
    "\n",
    "\n",
    "        if action == self.p_gold:\n",
    "            reward = 1\n",
    "        else:\n",
    "            reward = -1\n",
    "\n",
    "        # Check if sequence is done\n",
    "        '''we have a sequence of one state: the output that the other groups give us. based on that\n",
    "        we make a decision and a new round starts. so we don't need to count down the seconds of a 60min long\n",
    "        shower to know when a round is over.'''\n",
    "        done = True\n",
    "\n",
    "        info = {}\n",
    "\n",
    "        # Return step information\n",
    "        return self.state, reward, done, info\n",
    "\n",
    "    def render(self):\n",
    "        # Implement viz\n",
    "        pass\n",
    "\n",
    "    def reset(self):\n",
    "        '''Reset start state (output of previous groups) when new round starts (use \"random-formula\" that we need to\n",
    "        create above)'''\n",
    "        global i\n",
    "        self.state = train2_X[i]\n",
    "        self.p_gold = train2_y[i]\n",
    "        i += 1\n",
    "        if i == len(train2_X):\n",
    "            i = 0\n",
    "\n",
    "        return self.state"
   ],
   "metadata": {
    "pycharm": {
     "name": "#%%\n"
    },
    "id": "iTxxIuszUsrB"
   }
  },
  {
   "cell_type": "code",
   "execution_count": null,
   "outputs": [],
   "source": [
    "i = 0\n",
    "model2 = PPO(\"MlpPolicy\", UncertaintyEnv(), verbose=1)\n",
    "model2.learn(total_timesteps=half)"
   ],
   "metadata": {
    "pycharm": {
     "name": "#%%\n"
    },
    "id": "FfCGQa8iUsrB",
    "outputId": "7c922df4-8ddc-4fba-a975-a4094af12382"
   }
  },
  {
   "cell_type": "code",
   "execution_count": null,
   "outputs": [],
   "source": [
    "i = 0\n",
    "#model2 = PPO.load('RL_uncertainty_model', UncertaintyEnv())"
   ],
   "metadata": {
    "pycharm": {
     "name": "#%%\n"
    },
    "id": "Bd6zcLFlUsrB"
   }
  },
  {
   "cell_type": "code",
   "execution_count": null,
   "outputs": [],
   "source": [
    "correct = 0\n",
    "for i in tqdm(range(len(test2_X))):\n",
    "    obs = test2_X[i]\n",
    "    p_gold = test2_y[i]\n",
    "    pred, _ = model2.predict(obs)\n",
    "    if pred==p_gold:\n",
    "        correct += 1\n",
    "accuracy2 = correct/len(test2_X)\n",
    "print(accuracy2)"
   ],
   "metadata": {
    "pycharm": {
     "name": "#%%\n"
    },
    "id": "sB7RAGQlUsrC",
    "outputId": "87bafc11-1ea9-43e3-bece-4a9acf953c42"
   }
  },
  {
   "cell_type": "code",
   "execution_count": null,
   "outputs": [],
   "source": [
    "model2.save('RL_uncertainty_model')"
   ],
   "metadata": {
    "pycharm": {
     "name": "#%%\n"
    },
    "id": "BYVNmLMbUsrC"
   }
  }
 ],
 "metadata": {
  "kernelspec": {
   "display_name": "Python 3.10.5 64-bit",
   "language": "python",
   "name": "python3"
  },
  "language_info": {
   "codemirror_mode": {
    "name": "ipython",
    "version": 3
   },
   "file_extension": ".py",
   "mimetype": "text/x-python",
   "name": "python",
   "nbconvert_exporter": "python",
   "pygments_lexer": "ipython3",
   "version": "3.10.5"
  },
  "vscode": {
   "interpreter": {
    "hash": "e7370f93d1d0cde622a1f8e1c04877d8463912d04d973331ad4851f04de6915a"
   }
  },
  "colab": {
   "provenance": []
  }
 },
 "nbformat": 4,
 "nbformat_minor": 0
}