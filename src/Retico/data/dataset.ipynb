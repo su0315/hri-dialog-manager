{
 "cells": [
  {
   "cell_type": "markdown",
   "source": [
    "!! TO DO: understand math behind good cases ratio w.r.t. std/scale_up_factor (currently hyps tuned based on experimental evidence) !!\n",
    "\n",
    "\n",
    "\n",
    "\n"
   ],
   "metadata": {
    "id": "gKujTQPEcd-x",
    "pycharm": {
     "name": "#%% md\n"
    }
   },
   "id": "gKujTQPEcd-x"
  },
  {
   "cell_type": "code",
   "execution_count": 1,
   "id": "6ca9c441",
   "metadata": {
    "id": "6ca9c441",
    "executionInfo": {
     "status": "ok",
     "timestamp": 1663100168230,
     "user_tz": -120,
     "elapsed": 780,
     "user": {
      "displayName": "Bannies Samurais",
      "userId": "14005015664002598256"
     }
    },
    "pycharm": {
     "name": "#%%\n"
    }
   },
   "outputs": [],
   "source": [
    "import numpy as np\n",
    "import pandas as pd\n",
    "import random\n",
    "from scipy.special import softmax\n",
    "from statistics import mean\n",
    "from tqdm import tqdm\n",
    "\n",
    "# hyperparameters\n",
    "no_puzzlepieces = 15\n",
    "no_instances = 2000000\n",
    "std = 4#2.75   #0.275 # noise in coordinate confidence                           \n",
    "std_inst = 0.075 # noise in instruction confidence         \n",
    "coord = list(range(no_puzzlepieces))\n",
    "scale_up_factor = 13#10   #1\n",
    "scale_up_factor_inst = 3 # parameter to scale up all values before softmaxing to prevent all values from being all too similar"
   ]
  },
  {
   "cell_type": "markdown",
   "id": "63d65a7b",
   "metadata": {
    "id": "63d65a7b",
    "pycharm": {
     "name": "#%% md\n"
    }
   },
   "source": [
    "# Instructions and Instruction Confidence"
   ]
  },
  {
   "cell_type": "code",
   "execution_count": 2,
   "id": "4cb3899e",
   "metadata": {
    "id": "4cb3899e",
    "executionInfo": {
     "status": "ok",
     "timestamp": 1663100316122,
     "user_tz": -120,
     "elapsed": 147896,
     "user": {
      "displayName": "Bannies Samurais",
      "userId": "14005015664002598256"
     }
    },
    "pycharm": {
     "name": "#%%\n"
    }
   },
   "outputs": [
    {
     "name": "stderr",
     "output_type": "stream",
     "text": [
      "100%|██████████| 2000000/2000000 [07:00<00:00, 4754.65it/s]\n"
     ]
    }
   ],
   "source": [
    "X_inst_conf_ideal =[]\n",
    "X_inst_conf_noisy =[]\n",
    "\n",
    "for m in tqdm(range(no_instances)):\n",
    "        \n",
    "    #print('\\n')\n",
    "    #print(f'instance: {m}')\n",
    "    \n",
    "    inst_p_ideal = []\n",
    "    inst_p_noisy = []\n",
    "    \n",
    "    for group in range(3):\n",
    "        \n",
    "        #print('\\n')\n",
    "        #print(f'group: {group}')\n",
    "        \n",
    "        #############################################################################\n",
    "        ############## SET TRUE INSTRUCTION CONFIDENCE ##############################\n",
    "        #############################################################################\n",
    "        \n",
    "        current_inst_p_ideal = random.randint(0,1)\n",
    "        #print(current_inst_p_ideal)\n",
    "        inst_p_ideal.append(current_inst_p_ideal)\n",
    "        \n",
    "        \n",
    "        #############################################################################\n",
    "        ########################  NORMALLY DISTRIBUTED NOISE ########################\n",
    "        #############################################################################\n",
    "        \n",
    "        # create an auxilary probability that an instruction was not given (1 - inst_p) \n",
    "        inst_p_ideal_aux = []\n",
    "        inst_p_ideal_aux.append(current_inst_p_ideal) # probability that an instruction was given\n",
    "        if current_inst_p_ideal == 0: # probability that an instruction was not given\n",
    "            inst_p_ideal_aux.append(1) \n",
    "        else:\n",
    "            inst_p_ideal_aux.append(0) \n",
    "\n",
    "        \n",
    "        # upscale values\n",
    "        inst_p_aux_upscaled = np.multiply(inst_p_ideal_aux, scale_up_factor_inst) \n",
    "        #print(inst_p_aux_upscaled) \n",
    "        \n",
    "        # noise up those ideal probabilities (n) for \"instruction was given\" and \"instruction was not given\"\n",
    "        inst_p_noisy_aux = []\n",
    "        for n in range(2):\n",
    "            inst_p_noisy_aux.append(np.random.normal(scale = std_inst, loc = inst_p_aux_upscaled[n], size = 1)[0])                             \n",
    "        #print(inst_p_noisy_aux)\n",
    "\n",
    "        # squash values to sum up to one to represent probabilities\n",
    "        inst_p_noisy_aux_squashed = softmax(inst_p_noisy_aux)\n",
    "        #print(inst_p_noisy_aux_squashed)\n",
    "        \n",
    "        #print(inst_p_noisy_aux_squashed[0])\n",
    "        inst_p_noisy.append(inst_p_noisy_aux_squashed[0])\n",
    "    \n",
    "    # store\n",
    "    X_inst_conf_ideal.append(inst_p_ideal)\n",
    "    X_inst_conf_noisy.append(inst_p_noisy)\n"
   ]
  },
  {
   "cell_type": "markdown",
   "id": "4950e0a4",
   "metadata": {
    "id": "4950e0a4",
    "pycharm": {
     "name": "#%% md\n"
    }
   },
   "source": [
    "# Coordinates and Coordinate Confidence"
   ]
  },
  {
   "cell_type": "code",
   "execution_count": 3,
   "id": "04e42e96",
   "metadata": {
    "id": "04e42e96",
    "executionInfo": {
     "status": "ok",
     "timestamp": 1663100603267,
     "user_tz": -120,
     "elapsed": 287165,
     "user": {
      "displayName": "Bannies Samurais",
      "userId": "14005015664002598256"
     }
    },
    "pycharm": {
     "name": "#%%\n"
    }
   },
   "outputs": [
    {
     "name": "stderr",
     "output_type": "stream",
     "text": [
      "100%|██████████| 2000000/2000000 [07:04<00:00, 4710.06it/s]\n"
     ]
    }
   ],
   "source": [
    "X_coord_conf_ideal =[]\n",
    "X_coord_conf_noisy =[]\n",
    "\n",
    "for m in tqdm(range(no_instances)):\n",
    "    \n",
    "    \n",
    "    #print('\\n')\n",
    "    #print(f'instance: {m}')\n",
    "    \n",
    "\n",
    "    #############################################################################\n",
    "    ############## SET TRUE COORDINATE & IDEAL PROBABILITIES ####################\n",
    "    #############################################################################\n",
    "\n",
    "\n",
    "    # set all coordinate probabilities p = 0.0\n",
    "    coordinate_p_ideal = np.zeros(no_puzzlepieces)\n",
    "\n",
    "    # determine true coordinate and set its probability to p = 1.0\n",
    "    i = random.randint(0,no_puzzlepieces-1)\n",
    "    coordinate_p_ideal[i] = 1.0\n",
    "\n",
    "    # show all probabilities\n",
    "    #print(coordinate_p_ideal)\n",
    "    \n",
    "    # store ideal probabilities\n",
    "    X_coord_conf_ideal.append(coordinate_p_ideal)\n",
    "\n",
    "\n",
    "    #############################################################################\n",
    "    ########################  NORMALLY DISTRIBUTED NOISE ########################\n",
    "    #############################################################################\n",
    "    \n",
    "    # upscale values\n",
    "    coordinate_p_ideal_upscaled = np.multiply(coordinate_p_ideal, scale_up_factor) \n",
    "    \n",
    "    # auxilary lists to store different group's outputs per instance\n",
    "    both_groups = []\n",
    "    for group in range(2):\n",
    "        \n",
    "        if X_inst_conf_ideal[m][group]==0:\n",
    "            \n",
    "            # add uniformly distributed noise on ideal probabilities \n",
    "            coordinate_p_noisy = []\n",
    "            for i in range(no_puzzlepieces):\n",
    "                coordinate_p_noisy.append(np.random.uniform(0.0, scale_up_factor/scale_up_factor_inst))\n",
    "            \n",
    "        else:    \n",
    "\n",
    "            # add normally distributed noise on ideal probabilities \n",
    "            coordinate_p_noisy = []\n",
    "            for i in range(no_puzzlepieces):\n",
    "                coordinate_p_noisy.append(np.random.normal(scale = std, loc = coordinate_p_ideal_upscaled[i], size = 1)[0])\n",
    "\n",
    "        # squash values to sum up to one to represent probabilities\n",
    "        coordinate_p_noisy_squashed = softmax(coordinate_p_noisy)\n",
    "\n",
    "        # save group's probability distribution in overall df\n",
    "        both_groups.append(coordinate_p_noisy_squashed)\n",
    "        #print(both_groups[group])\n",
    "\n",
    "    #X.append(both_groups)\n",
    "    X_coord_conf_noisy.append(both_groups)\n",
    "\n"
   ]
  },
  {
   "cell_type": "markdown",
   "source": [
    "\n",
    "# HYPERPARAMETER-TUNING: COORDINATE CONFIDENCE NOISE"
   ],
   "metadata": {
    "id": "cu25J2eBBbeY",
    "pycharm": {
     "name": "#%% md\n"
    }
   },
   "id": "cu25J2eBBbeY"
  },
  {
   "cell_type": "code",
   "execution_count": 4,
   "id": "14b0b177",
   "metadata": {
    "colab": {
     "base_uri": "https://localhost:8080/"
    },
    "id": "14b0b177",
    "executionInfo": {
     "status": "ok",
     "timestamp": 1663100622747,
     "user_tz": -120,
     "elapsed": 19499,
     "user": {
      "displayName": "Bannies Samurais",
      "userId": "14005015664002598256"
     }
    },
    "outputId": "ff54e461-282e-4f03-d07c-a7ad8c1699a3",
    "pycharm": {
     "name": "#%%\n"
    }
   },
   "outputs": [
    {
     "name": "stderr",
     "output_type": "stream",
     "text": [
      "100%|██████████| 2000000/2000000 [00:48<00:00, 41349.47it/s]\n"
     ]
    },
    {
     "name": "stdout",
     "output_type": "stream",
     "text": [
      "Average correct predictions:  91.12%\n",
      "Average correct predictions of both models at the same time: 83.08 %\n",
      "Average highest coordinate confidence for both models: 0.9321752069066558\n",
      "Average highest instruction confidence for both models: 0.9523435988892216\n"
     ]
    }
   ],
   "source": [
    "no_true_inst = 0 # counting how many times an instruction was really given\n",
    "no_good_pred = 0 # counting right model predictions when really given an instruction\n",
    "\n",
    "no_two_true_inst = 0 # counting how many times both group1 and group2 really received an instruction\n",
    "no_two_good_pred = 0 # counting how many times both groups gave the right prediction\n",
    "\n",
    "max_inst_conf = [] # storing the maximum coordinate confidence per instance for group 1 and group 2\n",
    "max_coord_conf = [] # storing the maximum instruction confidence per instance for group 1 and group 2\n",
    "\n",
    "\n",
    "for m in tqdm(range(no_instances)):\n",
    "\n",
    "    # checking correct predictions per group\n",
    "    for group in range(2):\n",
    "        if X_inst_conf_ideal[m][group]==1:\n",
    "            no_true_inst += 1\n",
    "            if np.argmax(X_coord_conf_ideal[m])==np.argmax(X_coord_conf_noisy[m][group]):\n",
    "                no_good_pred += 1\n",
    "\n",
    "    # checking correct predictions for both groups\n",
    "    if X_inst_conf_ideal[m][0]==X_inst_conf_ideal[m][1]==1:\n",
    "        no_two_true_inst +=1\n",
    "\n",
    "        if np.argmax(X_coord_conf_ideal[m])==np.argmax(X_coord_conf_noisy[m][0])==np.argmax(X_coord_conf_noisy[m][1]):\n",
    "            no_two_good_pred += 1\n",
    "\n",
    "    # checking average of highest confidence for both groups\n",
    "    for group in range(2):\n",
    "        if X_inst_conf_ideal[m][group]==1:\n",
    "            max_coord_conf.append(np.max(X_coord_conf_noisy[m][group]))\n",
    "    for group in range(3):\n",
    "        if X_inst_conf_ideal[m][group]==1:\n",
    "            max_inst_conf.append(np.max(X_inst_conf_noisy[m][group]))\n",
    "\n",
    "\n",
    "\n",
    "print(f'Average correct predictions:  {(no_good_pred*100/no_true_inst):.2f}%')\n",
    "print(f'Average correct predictions of both models at the same time: {(no_two_good_pred*100/no_two_true_inst):.2f} %')\n",
    "\n",
    "print(f'Average highest coordinate confidence for both models: {mean(max_coord_conf)}')\n",
    "print(f'Average highest instruction confidence for both models: {mean(max_inst_conf)}')"
   ]
  },
  {
   "cell_type": "code",
   "source": [
    "no_good_pred_inst = 0\n",
    "\n",
    "for group in range(3):\n",
    "    for m in range(no_instances):\n",
    "        if X_inst_conf_ideal[m][group] == 1 and X_inst_conf_noisy[m][group] > 0.95:\n",
    "            no_good_pred_inst += 1\n",
    "        elif X_inst_conf_ideal[m][group] == 0 and X_inst_conf_noisy[m][group] < 0.05:\n",
    "            no_good_pred_inst += 1\n",
    "\n",
    "print(f'{no_good_pred_inst/no_instances/3}')"
   ],
   "metadata": {
    "colab": {
     "base_uri": "https://localhost:8080/"
    },
    "id": "6XKzAtWfEOs-",
    "executionInfo": {
     "status": "ok",
     "timestamp": 1663100623759,
     "user_tz": -120,
     "elapsed": 1031,
     "user": {
      "displayName": "Bannies Samurais",
      "userId": "14005015664002598256"
     }
    },
    "outputId": "474a325c-b67c-454e-8eb6-b6d666af7d27",
    "pycharm": {
     "name": "#%%\n"
    }
   },
   "id": "6XKzAtWfEOs-",
   "execution_count": 5,
   "outputs": [
    {
     "name": "stdout",
     "output_type": "stream",
     "text": [
      "0.6998658333333333\n"
     ]
    }
   ]
  },
  {
   "cell_type": "markdown",
   "id": "5ac83b78",
   "metadata": {
    "id": "5ac83b78",
    "pycharm": {
     "name": "#%% md\n"
    }
   },
   "source": [
    "# Gold Label\n",
    "\n",
    "Legend:  \n",
    "\n",
    "\n",
    "0 = NaN (no instruction was given by human, therefore no instruction is forwarded to motion group)  \n",
    "\n",
    "1 = forward language group's output (human gave language-only-instruction, therefore language-only-instruction overrules other instructions)  \n",
    "\n",
    "2 to (no_puzzlepieces+2) = puzzle piece ID"
   ]
  },
  {
   "cell_type": "code",
   "execution_count": 6,
   "id": "df88671d",
   "metadata": {
    "id": "df88671d",
    "executionInfo": {
     "status": "ok",
     "timestamp": 1663100624673,
     "user_tz": -120,
     "elapsed": 917,
     "user": {
      "displayName": "Bannies Samurais",
      "userId": "14005015664002598256"
     }
    },
    "pycharm": {
     "name": "#%%\n"
    }
   },
   "outputs": [
    {
     "name": "stderr",
     "output_type": "stream",
     "text": [
      "100%|██████████| 2000000/2000000 [00:02<00:00, 668852.37it/s]\n"
     ]
    }
   ],
   "source": [
    "y = []\n",
    "for m in tqdm(range(no_instances)):\n",
    "    \n",
    "    # language group outputs  \n",
    "    if X_inst_conf_ideal[m][2]==1:\n",
    "        y.append(1)\n",
    "        \n",
    "    # language and vision group outputs\n",
    "    elif X_inst_conf_ideal[m][0]==1:\n",
    "        y.append(np.argmax(X_coord_conf_ideal[m])+2)\n",
    "        \n",
    "    # gesture group outputs\n",
    "    elif X_inst_conf_ideal[m][1]==1:\n",
    "        y.append(np.argmax(X_coord_conf_ideal[m])+2)\n",
    "        \n",
    "    # noone outputs\n",
    "    else:\n",
    "        y.append(0)"
   ]
  },
  {
   "cell_type": "markdown",
   "id": "b6493038",
   "metadata": {
    "id": "b6493038",
    "pycharm": {
     "name": "#%% md\n"
    }
   },
   "source": [
    "# Store All"
   ]
  },
  {
   "cell_type": "code",
   "execution_count": 7,
   "id": "54d11444",
   "metadata": {
    "colab": {
     "base_uri": "https://localhost:8080/",
     "height": 424
    },
    "id": "54d11444",
    "executionInfo": {
     "status": "ok",
     "timestamp": 1663100625876,
     "user_tz": -120,
     "elapsed": 9,
     "user": {
      "displayName": "Bannies Samurais",
      "userId": "14005015664002598256"
     }
    },
    "outputId": "463083af-190e-44b7-ae65-0e8d7e688901",
    "pycharm": {
     "name": "#%%\n"
    }
   },
   "outputs": [],
   "source": [
    "dict_y = {'DM output': y}\n",
    "df_y = pd.DataFrame(data=dict_y)\n",
    "df_y.to_json(r'y_DM.json', orient='index')"
   ]
  },
  {
   "cell_type": "code",
   "source": [
    "instr_df = pd.DataFrame(X_inst_conf_noisy)\n",
    "coord_df0 = pd.DataFrame([row[0].tolist() for row in X_coord_conf_noisy])\n",
    "coord_df1 = pd.DataFrame([row[1].tolist() for row in X_coord_conf_noisy])\n",
    "\n",
    "a = [f'Instr{i}' for i in range(3)]\n",
    "b = [f'LV{i}' for i in range(no_puzzlepieces)]\n",
    "c = [f'G{i}' for i in range(no_puzzlepieces)]\n",
    "\n",
    "col_names = []\n",
    "col_names.extend(a)\n",
    "col_names.extend(b)\n",
    "col_names.extend(c)\n",
    "\n",
    "final_df_noisy = pd.concat([instr_df, coord_df0, coord_df1], axis=1)\n",
    "final_df_noisy.columns = col_names\n",
    "\n",
    "final_df_noisy.to_json(r'X_DM.json', orient='index')"
   ],
   "metadata": {
    "id": "6QOF9QTahImp",
    "pycharm": {
     "name": "#%%\n"
    }
   },
   "id": "6QOF9QTahImp",
   "execution_count": 8,
   "outputs": []
  },
  {
   "cell_type": "code",
   "execution_count": 9,
   "outputs": [
    {
     "data": {
      "text/plain": "     Instr0    Instr1    Instr2           LV0       LV1           LV2  \\\n0  0.044417  0.948645  0.051394  1.184407e-02  0.004668  1.679142e-01   \n1  0.047812  0.045173  0.952331  2.412665e-02  0.096746  3.777176e-02   \n2  0.953314  0.956077  0.041540  9.475518e-01  0.002022  1.077363e-06   \n3  0.050110  0.045864  0.051785  9.889656e-02  0.027604  5.037490e-02   \n4  0.956507  0.045919  0.041958  8.467011e-08  0.000028  1.567538e-09   \n\n            LV3           LV4       LV5       LV6  ...        G5  \\\n0  1.223004e-02  6.423568e-02  0.003802  0.075221  ...  0.000017   \n1  2.399562e-01  8.807114e-03  0.098118  0.025521  ...  0.196869   \n2  3.835028e-05  2.452871e-02  0.020271  0.002508  ...  0.083525   \n3  1.142828e-01  8.541672e-02  0.050009  0.007546  ...  0.123219   \n4  5.199476e-07  4.801439e-09  0.000010  0.000010  ...  0.009694   \n\n             G6            G7            G8            G9           G10  \\\n0  2.453819e-12  5.645929e-10  1.325844e-08  6.800279e-08  2.394640e-07   \n1  2.186837e-02  2.451092e-02  1.230735e-01  5.320467e-03  1.187514e-02   \n2  6.902250e-06  6.435119e-08  8.469432e-08  5.813958e-05  5.263748e-09   \n3  2.595567e-01  1.694002e-01  3.982521e-02  3.949090e-02  2.969280e-02   \n4  4.165330e-02  6.858550e-03  1.709011e-02  3.491676e-01  1.156647e-02   \n\n        G11       G12           G13       G14  \n0  0.999050  0.000128  1.793379e-08  0.000050  \n1  0.009244  0.058429  5.512780e-03  0.087323  \n2  0.000087  0.000002  7.223716e-05  0.002428  \n3  0.007174  0.009574  3.856792e-02  0.079525  \n4  0.026475  0.007702  1.292198e-02  0.043019  \n\n[5 rows x 33 columns]",
      "text/html": "<div>\n<style scoped>\n    .dataframe tbody tr th:only-of-type {\n        vertical-align: middle;\n    }\n\n    .dataframe tbody tr th {\n        vertical-align: top;\n    }\n\n    .dataframe thead th {\n        text-align: right;\n    }\n</style>\n<table border=\"1\" class=\"dataframe\">\n  <thead>\n    <tr style=\"text-align: right;\">\n      <th></th>\n      <th>Instr0</th>\n      <th>Instr1</th>\n      <th>Instr2</th>\n      <th>LV0</th>\n      <th>LV1</th>\n      <th>LV2</th>\n      <th>LV3</th>\n      <th>LV4</th>\n      <th>LV5</th>\n      <th>LV6</th>\n      <th>...</th>\n      <th>G5</th>\n      <th>G6</th>\n      <th>G7</th>\n      <th>G8</th>\n      <th>G9</th>\n      <th>G10</th>\n      <th>G11</th>\n      <th>G12</th>\n      <th>G13</th>\n      <th>G14</th>\n    </tr>\n  </thead>\n  <tbody>\n    <tr>\n      <th>0</th>\n      <td>0.044417</td>\n      <td>0.948645</td>\n      <td>0.051394</td>\n      <td>1.184407e-02</td>\n      <td>0.004668</td>\n      <td>1.679142e-01</td>\n      <td>1.223004e-02</td>\n      <td>6.423568e-02</td>\n      <td>0.003802</td>\n      <td>0.075221</td>\n      <td>...</td>\n      <td>0.000017</td>\n      <td>2.453819e-12</td>\n      <td>5.645929e-10</td>\n      <td>1.325844e-08</td>\n      <td>6.800279e-08</td>\n      <td>2.394640e-07</td>\n      <td>0.999050</td>\n      <td>0.000128</td>\n      <td>1.793379e-08</td>\n      <td>0.000050</td>\n    </tr>\n    <tr>\n      <th>1</th>\n      <td>0.047812</td>\n      <td>0.045173</td>\n      <td>0.952331</td>\n      <td>2.412665e-02</td>\n      <td>0.096746</td>\n      <td>3.777176e-02</td>\n      <td>2.399562e-01</td>\n      <td>8.807114e-03</td>\n      <td>0.098118</td>\n      <td>0.025521</td>\n      <td>...</td>\n      <td>0.196869</td>\n      <td>2.186837e-02</td>\n      <td>2.451092e-02</td>\n      <td>1.230735e-01</td>\n      <td>5.320467e-03</td>\n      <td>1.187514e-02</td>\n      <td>0.009244</td>\n      <td>0.058429</td>\n      <td>5.512780e-03</td>\n      <td>0.087323</td>\n    </tr>\n    <tr>\n      <th>2</th>\n      <td>0.953314</td>\n      <td>0.956077</td>\n      <td>0.041540</td>\n      <td>9.475518e-01</td>\n      <td>0.002022</td>\n      <td>1.077363e-06</td>\n      <td>3.835028e-05</td>\n      <td>2.452871e-02</td>\n      <td>0.020271</td>\n      <td>0.002508</td>\n      <td>...</td>\n      <td>0.083525</td>\n      <td>6.902250e-06</td>\n      <td>6.435119e-08</td>\n      <td>8.469432e-08</td>\n      <td>5.813958e-05</td>\n      <td>5.263748e-09</td>\n      <td>0.000087</td>\n      <td>0.000002</td>\n      <td>7.223716e-05</td>\n      <td>0.002428</td>\n    </tr>\n    <tr>\n      <th>3</th>\n      <td>0.050110</td>\n      <td>0.045864</td>\n      <td>0.051785</td>\n      <td>9.889656e-02</td>\n      <td>0.027604</td>\n      <td>5.037490e-02</td>\n      <td>1.142828e-01</td>\n      <td>8.541672e-02</td>\n      <td>0.050009</td>\n      <td>0.007546</td>\n      <td>...</td>\n      <td>0.123219</td>\n      <td>2.595567e-01</td>\n      <td>1.694002e-01</td>\n      <td>3.982521e-02</td>\n      <td>3.949090e-02</td>\n      <td>2.969280e-02</td>\n      <td>0.007174</td>\n      <td>0.009574</td>\n      <td>3.856792e-02</td>\n      <td>0.079525</td>\n    </tr>\n    <tr>\n      <th>4</th>\n      <td>0.956507</td>\n      <td>0.045919</td>\n      <td>0.041958</td>\n      <td>8.467011e-08</td>\n      <td>0.000028</td>\n      <td>1.567538e-09</td>\n      <td>5.199476e-07</td>\n      <td>4.801439e-09</td>\n      <td>0.000010</td>\n      <td>0.000010</td>\n      <td>...</td>\n      <td>0.009694</td>\n      <td>4.165330e-02</td>\n      <td>6.858550e-03</td>\n      <td>1.709011e-02</td>\n      <td>3.491676e-01</td>\n      <td>1.156647e-02</td>\n      <td>0.026475</td>\n      <td>0.007702</td>\n      <td>1.292198e-02</td>\n      <td>0.043019</td>\n    </tr>\n  </tbody>\n</table>\n<p>5 rows × 33 columns</p>\n</div>"
     },
     "execution_count": 9,
     "metadata": {},
     "output_type": "execute_result"
    }
   ],
   "source": [
    "final_df_noisy.head()"
   ],
   "metadata": {
    "collapsed": false,
    "pycharm": {
     "name": "#%%\n"
    }
   }
  },
  {
   "cell_type": "code",
   "source": [
    "# df_new = df.drop(['Instruction Confidence', 'Coordinate Confidence'], axis=1)\n",
    "# df_new.head()\n",
    "#\n",
    "# instr_df = pd.DataFrame(df_new['Instruction'].to_list())\n",
    "#\n",
    "# coord_df = pd.DataFrame(df_new['Coordinate'].to_list())\n",
    "#\n",
    "# a = [f'Instr{i}' for i in range(3)]\n",
    "# b = [f'GoldCoord{i}' for i in range(no_puzzlepieces)]\n",
    "#\n",
    "# col_names = []\n",
    "# col_names.extend(a)\n",
    "# col_names.extend(b)\n",
    "#\n",
    "# final_df_gold = pd.concat([instr_df, coord_df], axis=1)\n",
    "# final_df_gold.columns = col_names\n",
    "# final_df_gold.head()"
   ],
   "metadata": {
    "id": "XhSMBWCSnS0a",
    "pycharm": {
     "name": "#%%\n"
    }
   },
   "id": "XhSMBWCSnS0a",
   "execution_count": 10,
   "outputs": []
  }
 ],
 "metadata": {
  "kernelspec": {
   "display_name": "Python 3",
   "language": "python",
   "name": "python3"
  },
  "language_info": {
   "codemirror_mode": {
    "name": "ipython",
    "version": 3
   },
   "file_extension": ".py",
   "mimetype": "text/x-python",
   "name": "python",
   "nbconvert_exporter": "python",
   "pygments_lexer": "ipython3",
   "version": "3.8.8"
  },
  "colab": {
   "provenance": [
    {
     "file_id": "15zOUtrZKq4toGTlj6NY-p5OsRq4YS0cy",
     "timestamp": 1662146170977
    }
   ],
   "collapsed_sections": []
  }
 },
 "nbformat": 4,
 "nbformat_minor": 5
}