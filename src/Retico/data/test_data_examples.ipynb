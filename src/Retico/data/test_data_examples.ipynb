{
 "cells": [
  {
   "cell_type": "code",
   "execution_count": 27,
   "id": "34de0fc5",
   "metadata": {
    "pycharm": {
     "name": "#%%\n"
    }
   },
   "outputs": [],
   "source": [
    "import json"
   ]
  },
  {
   "cell_type": "code",
   "execution_count": 43,
   "id": "73d91bc9",
   "metadata": {
    "pycharm": {
     "name": "#%%\n"
    }
   },
   "outputs": [],
   "source": [
    "''' initialize lists for input instances and gold labels '''\n",
    "X = []\n",
    "y = []\n",
    "\n",
    "''' dummy coordinates '''\n",
    "x1 = str((1,1,1))\n",
    "x2 = str((2,2,2))\n",
    "x3 = str((3,3,3))\n",
    "\n",
    "\n",
    "\n",
    "##########################################################\n",
    "#                LANGUAGE TEAM OUTPUTS                   #\n",
    "##########################################################\n",
    "''' dummy output of previous groups '''\n",
    "# output language & vision group\n",
    "instr_con = 0.95\n",
    "p_coord = {x1:0.9, x2:0.1, x3: 0.0}\n",
    "LV = [instr_con, p_coord]\n",
    "\n",
    "# output gesture group\n",
    "instr_con = 0.95\n",
    "p_coord = {x1:0.9, x2:0.1, x3: 0.0}\n",
    "G = [instr_con, p_coord]\n",
    "\n",
    "# output language group (flags: 0 = not_pickup, 1 = pickup)\n",
    "instr_con = 0.95\n",
    "mov_vec = [-1,1,0]\n",
    "flag = 1\n",
    "L = [instr_con, mov_vec, flag]\n",
    "\n",
    "''' joint storage of output of previous groups '''\n",
    "# store each groups output in one list\n",
    "X.append([LV, G, L])\n",
    "\n",
    "''' create gold labels '''\n",
    "y.append([mov_vec, flag])\n",
    "\n",
    "\n",
    "\n",
    "##########################################################\n",
    "#    LANGUAGE & VISION AND GESTURE TEAM OUTPUT           #\n",
    "#            CONFIDENTLY & SIMILARY                      #\n",
    "##########################################################\n",
    "''' dummy output of previous groups '''\n",
    "# output language & vision group\n",
    "instr_con = 0.95\n",
    "p_coord = {x1:0.9, x2:0.05, x3: 0.05}\n",
    "LV = [instr_con, p_coord]\n",
    "\n",
    "# output gesture group\n",
    "instr_con = 0.95\n",
    "p_coord = {x1:0.8, x2:0.1, x3: 0.1}\n",
    "G = [instr_con, p_coord]\n",
    "\n",
    "# output language group (flags: 0 = not_pickup, 1 = pickup)\n",
    "instr_con = 0.5\n",
    "mov_vec = [-1,1,0]\n",
    "flag = 1\n",
    "L = [instr_con, mov_vec, flag]\n",
    "\n",
    "''' joint storage of output of previous groups '''\n",
    "# store each groups output in one list\n",
    "X.append([LV, G, L])\n",
    "\n",
    "''' create gold labels '''\n",
    "y.append([x1, 0.85, 1])\n",
    "\n",
    "\n",
    "\n",
    "\n",
    "\n",
    "##########################################################\n",
    "#    LANGUAGE & VISION AND GESTURE TEAM OUTPUT           #\n",
    "#            CONFIDENTLY & NOT SIMILARY                  #\n",
    "##########################################################\n",
    "''' dummy output of previous groups '''\n",
    "# output language & vision group\n",
    "instr_con = 0.95\n",
    "p_coord = {x1:0.9, x2:0.05, x3: 0.05}\n",
    "LV = [instr_con, p_coord]\n",
    "\n",
    "# output gesture group\n",
    "instr_con = 0.95\n",
    "p_coord = {x1:0.1, x2:0.8, x3: 0.1}\n",
    "G = [instr_con, p_coord]\n",
    "\n",
    "# output language group (flags: 0 = not_pickup, 1 = pickup)\n",
    "instr_con = 0.5\n",
    "mov_vec = [-1,1,0]\n",
    "flag = 1\n",
    "L = [instr_con, mov_vec, flag]\n",
    "\n",
    "''' joint storage of output of previous groups '''\n",
    "# store each groups output in one list\n",
    "X.append([LV, G, L])\n",
    "\n",
    "''' create gold labels '''\n",
    "y.append([x1, 0.5, 2])  \n",
    "\n",
    "\n",
    "\n",
    "\n",
    "\n",
    "\n",
    "\n",
    "\n",
    "\n",
    "''' store X and y jointly'''\n",
    "data = [X,y]"
   ]
  },
  {
   "cell_type": "code",
   "execution_count": 45,
   "id": "a7b9950a",
   "metadata": {
    "pycharm": {
     "name": "#%%\n"
    }
   },
   "outputs": [
    {
     "name": "stdout",
     "output_type": "stream",
     "text": [
      "[[[[0.95, {\"(1, 1, 1)\": 0.9, \"(2, 2, 2)\": 0.1, \"(3, 3, 3)\": 0.0}], [0.95, {\"(1, 1, 1)\": 0.9, \"(2, 2, 2)\": 0.1, \"(3, 3, 3)\": 0.0}], [0.95, [-1, 1, 0], 1]], [[0.95, {\"(1, 1, 1)\": 0.9, \"(2, 2, 2)\": 0.05, \"(3, 3, 3)\": 0.05}], [0.95, {\"(1, 1, 1)\": 0.8, \"(2, 2, 2)\": 0.1, \"(3, 3, 3)\": 0.1}], [0.5, [-1, 1, 0], 1]], [[0.95, {\"(1, 1, 1)\": 0.9, \"(2, 2, 2)\": 0.05, \"(3, 3, 3)\": 0.05}], [0.95, {\"(1, 1, 1)\": 0.1, \"(2, 2, 2)\": 0.8, \"(3, 3, 3)\": 0.1}], [0.5, [-1, 1, 0], 1]]], [[[-1, 1, 0], 1], [\"(1, 1, 1)\", 0.85, 1], [\"(1, 1, 1)\", 0.5, 2]]]\n"
     ]
    }
   ],
   "source": [
    "json_string = json.dumps(data)\n",
    "print(json_string)"
   ]
  },
  {
   "cell_type": "code",
   "execution_count": 47,
   "id": "2e74ee43",
   "metadata": {
    "pycharm": {
     "name": "#%%\n"
    }
   },
   "outputs": [],
   "source": [
    "with open(\"/Users/clarawicharz/Desktop/CogSys/Robot/test_data/test_data_examples.json\", \"w+\") as f:\n",
    "    json.dump(data, f)"
   ]
  },
  {
   "cell_type": "code",
   "execution_count": null,
   "id": "ee4cc684",
   "metadata": {
    "pycharm": {
     "name": "#%%\n"
    }
   },
   "outputs": [],
   "source": []
  }
 ],
 "metadata": {
  "kernelspec": {
   "display_name": "Python 3",
   "language": "python",
   "name": "python3"
  },
  "language_info": {
   "codemirror_mode": {
    "name": "ipython",
    "version": 3
   },
   "file_extension": ".py",
   "mimetype": "text/x-python",
   "name": "python",
   "nbconvert_exporter": "python",
   "pygments_lexer": "ipython3",
   "version": "3.8.8"
  }
 },
 "nbformat": 4,
 "nbformat_minor": 5
}